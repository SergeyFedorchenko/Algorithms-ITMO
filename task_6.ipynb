{
 "cells": [
  {
   "cell_type": "code",
   "execution_count": 14,
   "metadata": {},
   "outputs": [],
   "source": [
    "import numpy as np\n",
    "import pandas as pd\n",
    "import networkx as nx\n",
    "import seaborn as sns\n",
    "import matplotlib\n",
    "import matplotlib.pyplot as plt\n",
    "\n",
    "from time import time\n",
    "\n",
    "sns.set(font_scale=1.5)\n",
    "plt.style.use('ggplot')"
   ]
  },
  {
   "cell_type": "code",
   "execution_count": 15,
   "metadata": {},
   "outputs": [],
   "source": [
    "def random_adjacency_matrix(n_vertices, n_edges, min_weight, max_weight):\n",
    "    assert(n_edges <= n_vertices*(n_vertices-1)/2), \"Too much edges requested\"\n",
    "    A = np.zeros((n_vertices, n_vertices), dtype=np.int)\n",
    "    pairs = [(i, j) for j in range(n_vertices) for i in range(j)]\n",
    "    indices = np.random.choice(range(len(pairs)), size=n_edges, replace=False)\n",
    "\n",
    "    for index in indices:\n",
    "        i, j = pairs[index]\n",
    "        A[i, j] = A[j, i] = np.random.randint(min_weight, max_weight)\n",
    "    return A"
   ]
  },
  {
   "cell_type": "code",
   "execution_count": 23,
   "metadata": {},
   "outputs": [],
   "source": [
    "G = nx.from_numpy_matrix(\n",
    "    random_adjacency_matrix(\n",
    "        n_vertices=100,\n",
    "        n_edges=500,\n",
    "        min_weight=1,\n",
    "        max_weight=100\n",
    "    )\n",
    ")"
   ]
  },
  {
   "cell_type": "code",
   "execution_count": 36,
   "metadata": {},
   "outputs": [],
   "source": [
    "trials = []\n",
    "\n",
    "u = np.random.randint(0, 100)\n",
    "\n",
    "for _ in range(100):\n",
    "    start_time = time()\n",
    "    nx.shortest_path(G, source=u, weight='weight', method='dijkstra')\n",
    "    end_time = time()\n",
    "    running_time = end_time - start_time\n",
    "    trials.append((running_time, 'Dijkstra'))\n",
    "    \n",
    "for _ in range(100):\n",
    "    start_time = time()\n",
    "    nx.shortest_path(G, source=u, weight='weight', method='bellman-ford')\n",
    "    end_time = time()\n",
    "    running_time = end_time - start_time\n",
    "    trials.append((running_time, 'Bellman-Ford'))\n",
    "    \n",
    "results = pd.DataFrame(trials, columns=['time', 'method'])"
   ]
  },
  {
   "cell_type": "code",
   "execution_count": 33,
   "metadata": {},
   "outputs": [],
   "source": [
    "Dj = results[results.method=='Dijkstra'].time.values\n",
    "BF = results[results.method=='Bellman-Ford'].time.values"
   ]
  },
  {
   "cell_type": "code",
   "execution_count": 41,
   "metadata": {},
   "outputs": [
    {
     "name": "stdout",
     "output_type": "stream",
     "text": [
      "Djkstra mean running time : 0.0021396541595458986\n",
      "Djkstra std of a running time : 0.0005388712310364399\n",
      "\n",
      "Bellman-Ford mean running time : 0.005531625747680664\n",
      "Bellman-Ford std of a running time : 0.000908579225062432\n"
     ]
    }
   ],
   "source": [
    "print('Djkstra mean running time :', np.mean(Dj))\n",
    "print('Djkstra std of a running time :', np.std(Dj))\n",
    "print()\n",
    "print('Bellman-Ford mean running time :', np.mean(BF))\n",
    "print('Bellman-Ford std of a running time :', np.std(BF))"
   ]
  },
  {
   "cell_type": "code",
   "execution_count": 18,
   "metadata": {},
   "outputs": [],
   "source": [
    "pairs = [(i, j) for i in range(10) for j in range(10)]\n",
    "obstacle_indices = np.random.choice(10*10, size=30, replace=False)\n",
    "obstacle_cells = [pairs[i] for i in obstacle_indices]"
   ]
  },
  {
   "cell_type": "code",
   "execution_count": 19,
   "metadata": {},
   "outputs": [],
   "source": [
    "G = nx.grid_2d_graph(10, 10)\n",
    "\n",
    "for obstacle_cell in obstacle_cells:\n",
    "    for cell in G.nodes:\n",
    "        try:\n",
    "            G.remove_edge(obstacle_cell, cell)\n",
    "        except:\n",
    "            continue"
   ]
  },
  {
   "cell_type": "code",
   "execution_count": 20,
   "metadata": {},
   "outputs": [],
   "source": [
    "u_idx, v_idx = np.random.choice(10*10, size=2, replace=False)\n",
    "while u_idx in obstacle_indices or v_idx in obstacle_indices:\n",
    "    u_idx, v_idx = np.random.choice(10*10, size=2, replace=False)\n",
    "    \n",
    "u = pairs[u_idx]\n",
    "v = pairs[v_idx]"
   ]
  },
  {
   "cell_type": "code",
   "execution_count": 21,
   "metadata": {},
   "outputs": [],
   "source": [
    "def dist(a, b):\n",
    "    (x1, y1) = a\n",
    "    (x2, y2) = b\n",
    "    return ((x1 - x2) ** 2 + (y1 - y2) ** 2) ** 0.5\n",
    "\n",
    "running_times = []\n",
    "\n",
    "for _ in range(100):\n",
    "    start_time = time()\n",
    "    nx.astar_path(G, u, v, heuristic=dist)\n",
    "    end_time = time()\n",
    "    running_times.append(end_time - start_time)"
   ]
  },
  {
   "cell_type": "code",
   "execution_count": 40,
   "metadata": {},
   "outputs": [
    {
     "name": "stdout",
     "output_type": "stream",
     "text": [
      "A-star mean running time: 4.200935363769531e-05\n",
      "A-star std of a running time: 9.300097272084216e-06\n"
     ]
    }
   ],
   "source": [
    "print('A-star mean running time:', np.mean(running_times))\n",
    "\n",
    "print('A-star std of a running time:', np.std(running_times))"
   ]
  },
  {
   "cell_type": "code",
   "execution_count": null,
   "metadata": {},
   "outputs": [],
   "source": []
  },
  {
   "cell_type": "code",
   "execution_count": null,
   "metadata": {},
   "outputs": [],
   "source": []
  },
  {
   "cell_type": "code",
   "execution_count": null,
   "metadata": {},
   "outputs": [],
   "source": []
  },
  {
   "cell_type": "code",
   "execution_count": null,
   "metadata": {},
   "outputs": [],
   "source": []
  }
 ],
 "metadata": {
  "kernelspec": {
   "display_name": "Python 3",
   "language": "python",
   "name": "python3"
  },
  "language_info": {
   "codemirror_mode": {
    "name": "ipython",
    "version": 3
   },
   "file_extension": ".py",
   "mimetype": "text/x-python",
   "name": "python",
   "nbconvert_exporter": "python",
   "pygments_lexer": "ipython3",
   "version": "3.7.4"
  }
 },
 "nbformat": 4,
 "nbformat_minor": 2
}
