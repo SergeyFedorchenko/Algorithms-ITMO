{
 "cells": [
  {
   "cell_type": "code",
   "execution_count": 1,
   "metadata": {},
   "outputs": [],
   "source": [
    "import numpy as np\n",
    "import seaborn as sns\n",
    "import matplotlib.pyplot as plt\n",
    "\n",
    "from numpy.random import randn\n",
    "from functools import wraps\n",
    "from time import time\n",
    "\n",
    "import warnings\n",
    "warnings.filterwarnings('ignore')"
   ]
  },
  {
   "cell_type": "markdown",
   "metadata": {},
   "source": [
    "### Goal: \n",
    "implement and analyse algorithms and their time complexity"
   ]
  },
  {
   "cell_type": "markdown",
   "metadata": {},
   "source": [
    "### Formulation of the problem:\n",
    "Time complexity of algorithms can and should be analysed and compared to achieve better perfomance."
   ]
  },
  {
   "cell_type": "code",
   "execution_count": 2,
   "metadata": {},
   "outputs": [],
   "source": [
    "def clock(repeats):\n",
    "    def time_decorator(f):\n",
    "        @wraps(f)\n",
    "        def wrap(*args, **kwargs):\n",
    "            measurements = []\n",
    "            for _ in range(repeats):\n",
    "                t = time()\n",
    "                res = f(*args, **kwargs)\n",
    "                measurements += [time()-t]\n",
    "            return res, np.mean(measurements)\n",
    "        return wrap\n",
    "    return time_decorator        "
   ]
  },
  {
   "cell_type": "markdown",
   "metadata": {},
   "source": [
    "### Brief theoretical part\n",
    "In computer science, the time complexity is the computational complexity that describes the amount of time it takes to run an algorithm. Time complexity is commonly estimated by counting the number of elementary operations performed by the algorithm, supposing that each elementary operation takes a fixed amount of time to perform."
   ]
  },
  {
   "cell_type": "code",
   "execution_count": 10,
   "metadata": {},
   "outputs": [],
   "source": [
    "r_num = 25\n",
    "\n",
    "@clock(repeats = r_num)\n",
    "def constant(v):\n",
    "    return 0\n",
    "\n",
    "\n",
    "@clock(repeats = r_num)\n",
    "def vector_sum(v):\n",
    "    sum_v = 0\n",
    "    for e in v:\n",
    "        sum_v += e\n",
    "    return sum_v\n",
    "\n",
    "\n",
    "@clock(repeats = r_num)\n",
    "def vector_prod(v):\n",
    "    prod_v = 1\n",
    "    for e in v:\n",
    "        prod_v *= e\n",
    "    return prod_v\n",
    "\n",
    "\n",
    "@clock(repeats = r_num)\n",
    "def polynom(v, x = 1):\n",
    "    res = 0\n",
    "    for i in range(len(v)):\n",
    "        res += v[i]*x**i\n",
    "    return res\n",
    "\n",
    "@clock(repeats = r_num)\n",
    "def polynom_horner(v, x = 1):\n",
    "    res = 0\n",
    "    xx = 1\n",
    "    for i in range(len(v)):\n",
    "        res += v[i]*xx\n",
    "        xx *= x\n",
    "    return res\n",
    "\n",
    "\n",
    "@clock(repeats = r_num)\n",
    "def bubble_sort(v):\n",
    "    n = len(v)\n",
    "    for i in range(n-1): \n",
    "        for j in range(0, n-i-1): \n",
    "            if v[j] > v[j+1] : \n",
    "                v[j], v[j+1] = v[j+1], v[j]\n",
    "    return(v)\n",
    "\n",
    "\n",
    "@clock(repeats = r_num)\n",
    "def quicksort(v):\n",
    "    def qsort(array):\n",
    "        if len(array) < 2:\n",
    "            return array\n",
    "\n",
    "        low, same, high = [], [], []\n",
    "\n",
    "        pivot = array[random.randint(0, len(array) - 1)]\n",
    "\n",
    "        for item in array:\n",
    "            if item < pivot:\n",
    "                low.append(item)\n",
    "            elif item == pivot:\n",
    "                same.append(item)\n",
    "            elif item > pivot:\n",
    "                high.append(item)\n",
    "\n",
    "        return qsort(low) + same + qsort(high)\n",
    "    \n",
    "    return qsort(v)\n",
    "\n",
    "@clock(repeats = r_num)\n",
    "def timsort(v):\n",
    "    return sorted(v)\n",
    "\n",
    "\n",
    "@clock(repeats = r_num)\n",
    "def mat_mul(A, B):\n",
    "    C = np.zeros(A.shape)\n",
    "    n = len(C[0])\n",
    "    for i in range(n):\n",
    "        for j in range(n):\n",
    "            for k in range(n):\n",
    "                C[i, j] += A[i, k]*B[k, j]\n",
    "    return C"
   ]
  },
  {
   "cell_type": "code",
   "execution_count": 9,
   "metadata": {},
   "outputs": [],
   "source": [
    "def benchmark(f, n = 500):\n",
    "    measurements = []\n",
    "    timestomps = np.arange(50, n, 50)\n",
    "    for i in timestomps:\n",
    "        v = list(np.random.random(i)*100)\n",
    "        measurements += [f(v)[1]]\n",
    "    return timestomps, np.array(measurements)"
   ]
  },
  {
   "cell_type": "markdown",
   "metadata": {},
   "source": [
    "### Results\n",
    "One can see that all graphs are linear from simple observation. Therefore every function is O(n) except constant. Constant does not grow thus being O(1)."
   ]
  },
  {
   "cell_type": "code",
   "execution_count": 290,
   "metadata": {},
   "outputs": [
    {
     "data": {
      "image/png": "[encoded data removed]",
      "text/plain": [
       "<Figure size 432x288 with 1 Axes>"
      ]
     },
     "metadata": {
      "needs_background": "light"
     },
     "output_type": "display_data"
    }
   ],
   "source": [
    "linear = [constant, vector_sum, vector_prod, polynom]\n",
    "\n",
    "for f in linear:\n",
    "    bench = benchmark(f, 4000)\n",
    "    plt.plot(bench[0], bench[1], label = f.__name__)\n",
    "plt.legend()\n",
    "plt.show()\n"
   ]
  },
  {
   "cell_type": "markdown",
   "metadata": {},
   "source": [
    "Bubble sort is quadratic algorithm buy its nature because it contain nested loop. Square root of time consumption is linear, so function is O(n**2)"
   ]
  },
  {
   "cell_type": "code",
   "execution_count": 6,
   "metadata": {},
   "outputs": [
    {
     "ename": "NameError",
     "evalue": "name 'benchmark' is not defined",
     "output_type": "error",
     "traceback": [
      "\u001b[0;31m---------------------------------------------------------------------------\u001b[0m",
      "\u001b[0;31mNameError\u001b[0m                                 Traceback (most recent call last)",
      "\u001b[0;32m<ipython-input-6-e3b72fda83e8>\u001b[0m in \u001b[0;36m<module>\u001b[0;34m\u001b[0m\n\u001b[0;32m----> 1\u001b[0;31m \u001b[0mbench\u001b[0m \u001b[0;34m=\u001b[0m \u001b[0mbenchmark\u001b[0m\u001b[0;34m(\u001b[0m\u001b[0mbubble_sort\u001b[0m\u001b[0;34m,\u001b[0m \u001b[0;36m1000\u001b[0m\u001b[0;34m)\u001b[0m\u001b[0;34m\u001b[0m\u001b[0;34m\u001b[0m\u001b[0m\n\u001b[0m\u001b[1;32m      2\u001b[0m \u001b[0mplt\u001b[0m\u001b[0;34m.\u001b[0m\u001b[0mplot\u001b[0m\u001b[0;34m(\u001b[0m\u001b[0mbench\u001b[0m\u001b[0;34m[\u001b[0m\u001b[0;36m0\u001b[0m\u001b[0;34m]\u001b[0m\u001b[0;34m,\u001b[0m \u001b[0mbench\u001b[0m\u001b[0;34m[\u001b[0m\u001b[0;36m1\u001b[0m\u001b[0;34m]\u001b[0m\u001b[0;34m,\u001b[0m \u001b[0mlabel\u001b[0m \u001b[0;34m=\u001b[0m \u001b[0;34m'bubble sort'\u001b[0m\u001b[0;34m)\u001b[0m\u001b[0;34m\u001b[0m\u001b[0;34m\u001b[0m\u001b[0m\n\u001b[1;32m      3\u001b[0m \u001b[0mplt\u001b[0m\u001b[0;34m.\u001b[0m\u001b[0mlegend\u001b[0m\u001b[0;34m(\u001b[0m\u001b[0;34m)\u001b[0m\u001b[0;34m\u001b[0m\u001b[0;34m\u001b[0m\u001b[0m\n\u001b[1;32m      4\u001b[0m \u001b[0mplt\u001b[0m\u001b[0;34m.\u001b[0m\u001b[0mshow\u001b[0m\u001b[0;34m(\u001b[0m\u001b[0;34m)\u001b[0m\u001b[0;34m\u001b[0m\u001b[0;34m\u001b[0m\u001b[0m\n",
      "\u001b[0;31mNameError\u001b[0m: name 'benchmark' is not defined"
     ]
    }
   ],
   "source": [
    "bench = benchmark(bubble_sort, 1000)\n",
    "plt.plot(bench[0], bench[1], label = 'bubble sort')\n",
    "plt.legend()\n",
    "plt.show()"
   ]
  },
  {
   "cell_type": "code",
   "execution_count": null,
   "metadata": {},
   "outputs": [],
   "source": [
    "bench = benchmark(bubble_sort, 1000)\n",
    "plt.plot(bench[0], np.sqrt(bench[1]), label = 'bubble sort square root')\n",
    "plt.legend()\n",
    "plt.show()"
   ]
  },
  {
   "cell_type": "markdown",
   "metadata": {},
   "source": [
    "Quicksort and timsort are O(n * log(n))  divide-and-conquer algorithms. It is hard to see difference from linear algorithms. Also timsort is more robust and thus faster then vanilla quicksort."
   ]
  },
  {
   "cell_type": "code",
   "execution_count": 396,
   "metadata": {},
   "outputs": [
    {
     "data": {
      "image/png": "[encoded data removed]",
      "text/plain": [
       "<Figure size 432x288 with 1 Axes>"
      ]
     },
     "metadata": {
      "needs_background": "light"
     },
     "output_type": "display_data"
    }
   ],
   "source": [
    "r_num = 15\n",
    "\n",
    "loglinear = [timsort, quicksort]\n",
    "\n",
    "for f in loglinear:\n",
    "    bench = benchmark(f, 40000)\n",
    "    plt.plot(bench[0], bench[1], label = f.__name__)\n",
    "#plt.plot(bench[0], bench[0], label = 'linear')\n",
    "plt.legend()\n",
    "plt.show()\n"
   ]
  },
  {
   "cell_type": "markdown",
   "metadata": {},
   "source": [
    "Naive matrix multiplication is an O(n^3) algorithm, because of three consecutive nested loops. Algorithm will simply do n^3 multiplications and summ them up."
   ]
  },
  {
   "cell_type": "code",
   "execution_count": 15,
   "metadata": {},
   "outputs": [],
   "source": [
    "def benchmark_mat(n = 500):\n",
    "    measurements = []\n",
    "    timestomps = np.arange(50, n, 10)\n",
    "    for i in timestomps:\n",
    "        A = np.random.random([i, i])*10\n",
    "        B = np.random.random([i, i])*10\n",
    "        measurements += [mat_mul(A, B)[1]]\n",
    "    return timestomps, np.array(measurements)"
   ]
  },
  {
   "cell_type": "code",
   "execution_count": 18,
   "metadata": {},
   "outputs": [
    {
     "data": {
      "image/png": "[encoded data removed]",
      "text/plain": [
       "<Figure size 432x288 with 1 Axes>"
      ]
     },
     "metadata": {
      "needs_background": "light"
     },
     "output_type": "display_data"
    }
   ],
   "source": [
    "bench = benchmark_mat(150)\n",
    "plt.plot(bench[0], np.sqrt(bench[1]), label = 'matrix multiplication')\n",
    "plt.legend()\n",
    "plt.show()"
   ]
  },
  {
   "cell_type": "markdown",
   "metadata": {},
   "source": [
    "### Conclusions\n",
    "It has been shown that implemented algorithms differs in terms of time consumption and it depends on input size."
   ]
  },
  {
   "cell_type": "code",
   "execution_count": null,
   "metadata": {},
   "outputs": [],
   "source": []
  }
 ],
 "metadata": {
  "kernelspec": {
   "display_name": "Python 3",
   "language": "python",
   "name": "python3"
  },
  "language_info": {
   "codemirror_mode": {
    "name": "ipython",
    "version": 3
   },
   "file_extension": ".py",
   "mimetype": "text/x-python",
   "name": "python",
   "nbconvert_exporter": "python",
   "pygments_lexer": "ipython3",
   "version": "3.7.4"
  }
 },
 "nbformat": 4,
 "nbformat_minor": 4
}
