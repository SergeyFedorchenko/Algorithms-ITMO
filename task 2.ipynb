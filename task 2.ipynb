{
 "cells": [
  {
   "cell_type": "code",
   "execution_count": 36,
   "metadata": {},
   "outputs": [],
   "source": [
    "import itertools\n",
    "import numpy as np\n",
    "import seaborn as sns\n",
    "from scipy.optimize import minimize, minimize_scalar\n",
    "from matplotlib import pyplot as plt"
   ]
  },
  {
   "cell_type": "code",
   "execution_count": 37,
   "metadata": {},
   "outputs": [],
   "source": [
    "class OptimizedFunction:\n",
    "    def __init__(self, f, name, x_min, x_max):\n",
    "        self._f = f\n",
    "        self.name = name\n",
    "        self._n_calls = 0\n",
    "        self.x_min = x_min\n",
    "        self.x_max = x_max\n",
    "\n",
    "    def __call__(self, *args, **kwargs):\n",
    "        self._n_calls += 1\n",
    "        return self._f(*args, **kwargs)\n",
    "\n",
    "    def call_count(self):\n",
    "        return self._n_calls\n",
    "\n",
    "    def reset(self):\n",
    "        self._n_calls = 0"
   ]
  },
  {
   "cell_type": "code",
   "execution_count": 38,
   "metadata": {},
   "outputs": [],
   "source": [
    "def f1(x):\n",
    "    return x**3\n",
    "\n",
    "def f2(x):\n",
    "    return abs(x - 0.2)\n",
    "\n",
    "def f3(x):\n",
    "    return x * np.sin(1/x)"
   ]
  },
  {
   "cell_type": "code",
   "execution_count": 39,
   "metadata": {},
   "outputs": [],
   "source": [
    "opt1 = OptimizedFunction(f1, 'x^3', 0, 1)\n",
    "opt2 = OptimizedFunction(f2, '|x-0.2|', 0, 1)\n",
    "opt3 = OptimizedFunction(f3, 'x*sin(1/x)', 0.01, 1)"
   ]
  },
  {
   "cell_type": "code",
   "execution_count": 44,
   "metadata": {},
   "outputs": [],
   "source": [
    "def linear_search(f, x_min, x_max, eps):\n",
    "    net = np.arange(x_min, x_max, step=eps)\n",
    "    function_values = np.array([f(x) for x in net])\n",
    "    argmin = np.argmin(function_values)\n",
    "    \n",
    "    return net[argmin], len(net)"
   ]
  },
  {
   "cell_type": "code",
   "execution_count": 45,
   "metadata": {},
   "outputs": [],
   "source": [
    "def dichotomy(f, x_min, x_max, eps):\n",
    "    delta = eps/3\n",
    "    \n",
    "    x_l = x_min\n",
    "    x_r = x_max\n",
    "    i = 0\n",
    "    \n",
    "    while abs(x_l - x_r) > eps:\n",
    "        x_mid = (x_l + x_r)/2\n",
    "        x_1 = x_mid - delta\n",
    "        x_2 = x_mid + delta\n",
    "        \n",
    "        if f(x_1) <= f(x_2):\n",
    "            x_r = x_2\n",
    "        else:\n",
    "            x_l = x_1\n",
    "        i += 1\n",
    "        \n",
    "    return x_l, i"
   ]
  },
  {
   "cell_type": "code",
   "execution_count": 46,
   "metadata": {},
   "outputs": [],
   "source": [
    "invphi2 = (3 - np.sqrt(5))/2\n",
    "\n",
    "def golden_section(f, x_min, x_max, eps):\n",
    "    x_l = x_min\n",
    "    x_r = x_max\n",
    "    \n",
    "    x_1 = x_l + invphi2 * (x_r - x_l)\n",
    "    x_2 = x_r - invphi2 * (x_r - x_l)\n",
    "    f_1 = f(x_1)\n",
    "    f_2 = f(x_2)\n",
    "    \n",
    "    i = 1\n",
    "    while abs(x_l - x_r) > eps:\n",
    "        if f_1 < f_2:\n",
    "            x_r = x_2\n",
    "            x_2 = x_1\n",
    "            f_2 = f_1\n",
    "            x_1 = x_l + invphi2 * (x_r - x_l)\n",
    "            f_1 = f(x_1)\n",
    "        else:\n",
    "            x_l = x_1\n",
    "            x_1 = x_2\n",
    "            f_1 = f_2\n",
    "            x_2 = x_r - invphi2 * (x_r - x_l)\n",
    "            f_2 = f(x_2)\n",
    "        i += 1\n",
    "    \n",
    "    return x_l, i"
   ]
  },
  {
   "cell_type": "code",
   "execution_count": 53,
   "metadata": {},
   "outputs": [
    {
     "name": "stdout",
     "output_type": "stream",
     "text": [
      "linear_search \n",
      "\n",
      "x^3 : iterations=1000, evaluations=1000\n",
      "|x-0.2| : iterations=1000, evaluations=1000\n",
      "x*sin(1/x) : iterations=990, evaluations=990\n",
      "\n",
      "------------------------------------------------\n",
      "\n",
      "dichotomy \n",
      "\n",
      "x^3 : iterations=12, evaluations=24\n",
      "|x-0.2| : iterations=12, evaluations=24\n",
      "x*sin(1/x) : iterations=12, evaluations=24\n",
      "\n",
      "------------------------------------------------\n",
      "\n",
      "golden_section \n",
      "\n",
      "x^3 : iterations=16, evaluations=17\n",
      "|x-0.2| : iterations=16, evaluations=17\n",
      "x*sin(1/x) : iterations=16, evaluations=17\n",
      "\n",
      "------------------------------------------------\n",
      "\n"
     ]
    }
   ],
   "source": [
    "eps = 1e-3\n",
    "\n",
    "for optimizer in [linear_search, dichotomy, golden_section]:\n",
    "    print(optimizer.__name__, '\\n')\n",
    "    for objective in [opt1, opt2, opt3]:\n",
    "        objective.reset()\n",
    "        _, n_iters = optimizer(objective, objective.x_min, objective.x_max, eps)\n",
    "        n_evals = objective.call_count()\n",
    "        print(f'{objective.name} : iterations={n_iters}, evaluations={n_evals}')\n",
    "    print('\\n------------------------------------------------\\n')"
   ]
  },
  {
   "cell_type": "code",
   "execution_count": 54,
   "metadata": {},
   "outputs": [],
   "source": [
    "def linear_approx(x, a, b):\n",
    "    return a*x + b\n",
    "\n",
    "def rational_approx(x, a, b):\n",
    "    return a/(1 + b*x)"
   ]
  },
  {
   "cell_type": "code",
   "execution_count": 55,
   "metadata": {},
   "outputs": [],
   "source": [
    "def loss(y_true, y_pred):\n",
    "    return np.sum((y_true - y_pred)**2)"
   ]
  },
  {
   "cell_type": "code",
   "execution_count": 115,
   "metadata": {},
   "outputs": [
    {
     "name": "stdout",
     "output_type": "stream",
     "text": [
      "0.3919451220418142 0.5292762905133975\n"
     ]
    }
   ],
   "source": [
    "alpha = np.random.rand()\n",
    "beta = np.random.rand()\n",
    "\n",
    "print(alpha, beta)\n",
    "\n",
    "x = np.arange(0, 1.01, step=0.01)\n",
    "y = alpha*x + beta + np.random.normal(loc=0, scale=1, size=x.shape)\n",
    "\n",
    "def linear_loss(params):\n",
    "    a, b = params\n",
    "    return loss(F(x, a, b), y)\n",
    "    \n",
    "def rational_loss(params):\n",
    "    a, b = params\n",
    "    return loss(G(x, a, b), y)"
   ]
  },
  {
   "cell_type": "code",
   "execution_count": 116,
   "metadata": {},
   "outputs": [],
   "source": [
    "def linear_search_2d(f, x_min, x_max, y_min, y_max, eps):\n",
    "    X = np.arange(x_min, x_max, step=eps)\n",
    "    Y = np.arange(y_min, y_max, step=eps)\n",
    "    \n",
    "    f_argmin = None\n",
    "    f_min = np.inf\n",
    "    \n",
    "    for p in itertools.product(X, Y):\n",
    "        f_cur = f(p)\n",
    "        if f_cur < f_min:\n",
    "            f_min = f_cur\n",
    "            f_argmin = p\n",
    "    return f_argmin"
   ]
  },
  {
   "cell_type": "code",
   "execution_count": 117,
   "metadata": {},
   "outputs": [],
   "source": [
    "def __fix_x(f, x):\n",
    "    return lambda y: f((x, y))\n",
    "\n",
    "def __fix_y(f, y):\n",
    "    return lambda x: f((x, y))\n",
    "\n",
    "def gauss_opt(f, x_0, y_0, eps):\n",
    "    x = x_0\n",
    "    y = y_0\n",
    "    \n",
    "    f_y = __fix_y(f, y)\n",
    "    x_new = minimize_scalar(f_y).x\n",
    "    f_x = __fix_x(f, x_new)\n",
    "    y_new = minimize_scalar(f_x).x\n",
    "    \n",
    "    while max(x-x_new, y-y_new) > eps:\n",
    "        x = x_new\n",
    "        y = y_new\n",
    "        \n",
    "        f_y = __fix_y(f, y)\n",
    "        x_new = minimize_scalar(f_y).x\n",
    "        f_x = __fix_x(f, x_new)\n",
    "        y_new = minimize_scalar(f_x).x\n",
    "    \n",
    "    return x, y"
   ]
  },
  {
   "cell_type": "code",
   "execution_count": 118,
   "metadata": {},
   "outputs": [],
   "source": [
    "def nelder_mead(f, x_0, y_0, eps):\n",
    "    return minimize(f, method='Nelder-Mead', x0=(x_0, y_0), tol=eps).x"
   ]
  },
  {
   "cell_type": "code",
   "execution_count": 119,
   "metadata": {},
   "outputs": [
    {
     "name": "stdout",
     "output_type": "stream",
     "text": [
      "Exhaustive:           alpha=0.258, beta=0.426\n",
      "Gauss:                alpha=0.2581, beta=0.4261\n",
      "Nelder-Mead:          alpha=0.2591, beta=0.4256\n"
     ]
    }
   ],
   "source": [
    "alpha_1, beta_1 = linear_search_2d(linear_loss, 0, 1, 0, 1, 0.001)\n",
    "alpha_2, beta_2 = gauss_opt(linear_loss, 0.5, 0.5, 0.0001)\n",
    "alpha_3, beta_3 = nelder_mead(linear_loss, 0.5, 0.5, 0.001)\n",
    "\n",
    "print(f'Exhaustive:           alpha={alpha_1:.4}, beta={beta_1:.4}')\n",
    "print(f'Gauss:                alpha={alpha_2:.4}, beta={beta_2:.4}')\n",
    "print(f'Nelder-Mead:          alpha={alpha_3:.4}, beta={beta_3:.4}')"
   ]
  },
  {
   "cell_type": "code",
   "execution_count": 120,
   "metadata": {},
   "outputs": [
    {
     "data": {
      "image/png": "[encoded data removed]",
      "text/plain": [
       "<Figure size 720x504 with 1 Axes>"
      ]
     },
     "metadata": {
      "needs_background": "light"
     },
     "output_type": "display_data"
    }
   ],
   "source": [
    "y_pred_1 = linear_approx(x, alpha_1, beta_1)\n",
    "y_pred_2 = linear_approx(x, alpha_2, beta_2)\n",
    "y_pred_3 = linear_approx(x, alpha_3, beta_3)\n",
    "y_true = linear_approx(x, alpha, beta)\n",
    "\n",
    "plt.figure(figsize=(10, 7))\n",
    "sns.scatterplot(x, y)\n",
    "plt.plot(x, y_pred_1, label='Exhaustive')\n",
    "plt.plot(x, y_pred_2, label='Gauss')\n",
    "plt.plot(x, y_pred_3, label='Nelder-Mead')\n",
    "plt.plot(x, y_true, label='True dependency')\n",
    "plt.legend()\n",
    "plt.savefig('linear_app.png')\n",
    "plt.show()"
   ]
  },
  {
   "cell_type": "code",
   "execution_count": 128,
   "metadata": {},
   "outputs": [
    {
     "name": "stdout",
     "output_type": "stream",
     "text": [
      "mean_error_1 = 0.1702\n",
      "mean_error_2 = 0.1701\n",
      "mean_error_3 = 0.1701\n"
     ]
    }
   ],
   "source": [
    "print(f'mean_error_1 = {np.mean(abs(y_pred_1-y_true)):.4}')\n",
    "print(f'mean_error_2 = {np.mean(abs(y_pred_2-y_true)):.4}')\n",
    "print(f'mean_error_3 = {np.mean(abs(y_pred_3-y_true)):.4}')"
   ]
  },
  {
   "cell_type": "code",
   "execution_count": 122,
   "metadata": {},
   "outputs": [
    {
     "name": "stdout",
     "output_type": "stream",
     "text": [
      "Exhaustive:           alpha=0.424, beta=-0.428\n",
      "Gauss:                alpha=0.4246, beta=-0.4271\n",
      "Nelder-Mead:          alpha=0.4246, beta=-0.4273\n"
     ]
    }
   ],
   "source": [
    "alpha_4, beta_4 = linear_search_2d(rational_loss, 0, 1, -0.5, 1, 0.001)\n",
    "alpha_5, beta_5 = gauss_opt(rational_loss, 0.5, 0.5, 0.0001)\n",
    "alpha_6, beta_6 = nelder_mead(rational_loss, 0.5, 0.5, 0.001)\n",
    "\n",
    "print(f'Exhaustive:           alpha={alpha_4:.4}, beta={beta_4:.4}')\n",
    "print(f'Gauss:                alpha={alpha_5:.4}, beta={beta_5:.4}')\n",
    "print(f'Nelder-Mead:          alpha={alpha_6:.4}, beta={beta_6:.4}')"
   ]
  },
  {
   "cell_type": "code",
   "execution_count": 123,
   "metadata": {},
   "outputs": [
    {
     "data": {
      "image/png": "[encoded data removed]",
      "text/plain": [
       "<Figure size 720x504 with 1 Axes>"
      ]
     },
     "metadata": {
      "needs_background": "light"
     },
     "output_type": "display_data"
    }
   ],
   "source": [
    "y_pred_4 = rational_approx(x, alpha_4, beta_4)\n",
    "y_pred_5 = rational_approx(x, alpha_5, beta_5)\n",
    "y_pred_6 = rational_approx(x, alpha_6, beta_6)\n",
    "y_true = linear_approx(x, alpha, beta)\n",
    "\n",
    "plt.figure(figsize=(10, 7))\n",
    "sns.scatterplot(x, y)\n",
    "plt.plot(x, y_pred_4, label='Exhaustive')\n",
    "plt.plot(x, y_pred_5, label='Gauss')\n",
    "plt.plot(x, y_pred_6, label='Nelder-Mead')\n",
    "plt.plot(x, y_true, label='True dependency')\n",
    "plt.legend()\n",
    "plt.savefig('rational.png')\n",
    "plt.show()"
   ]
  },
  {
   "cell_type": "code",
   "execution_count": 124,
   "metadata": {},
   "outputs": [
    {
     "name": "stdout",
     "output_type": "stream",
     "text": [
      "max_error_1 = 0.1988\n",
      "max_error_2 = 0.1984\n",
      "max_error_3 = 0.1984\n"
     ]
    }
   ],
   "source": [
    "print(f'max_error_1 = {np.mean(abs(y_pred_4-y_true)):.4}')\n",
    "print(f'max_error_2 = {np.mean(abs(y_pred_5-y_true)):.4}')\n",
    "print(f'max_error_3 = {np.mean(abs(y_pred_6-y_true)):.4}')"
   ]
  },
  {
   "cell_type": "code",
   "execution_count": null,
   "metadata": {},
   "outputs": [],
   "source": []
  },
  {
   "cell_type": "code",
   "execution_count": null,
   "metadata": {},
   "outputs": [],
   "source": []
  }
 ],
 "metadata": {
  "kernelspec": {
   "display_name": "Python 3",
   "language": "python",
   "name": "python3"
  },
  "language_info": {
   "codemirror_mode": {
    "name": "ipython",
    "version": 3
   },
   "file_extension": ".py",
   "mimetype": "text/x-python",
   "name": "python",
   "nbconvert_exporter": "python",
   "pygments_lexer": "ipython3",
   "version": "3.7.4"
  }
 },
 "nbformat": 4,
 "nbformat_minor": 4
}
